{
 "cells": [
  {
   "cell_type": "markdown",
   "metadata": {},
   "source": [
    "# 监督学习-Logistic Regression"
   ]
  },
  {
   "cell_type": "markdown",
   "metadata": {},
   "source": [
    "根据学生的两次考试成绩,预测学生是否能录取"
   ]
  },
  {
   "cell_type": "code",
   "execution_count": 157,
   "metadata": {},
   "outputs": [],
   "source": [
    "import numpy as np\n",
    "import pandas as pd\n",
    "import matplotlib.pyplot as plt"
   ]
  },
  {
   "cell_type": "code",
   "execution_count": 158,
   "metadata": {},
   "outputs": [
    {
     "data": {
      "text/html": [
       "<div>\n",
       "<style scoped>\n",
       "    .dataframe tbody tr th:only-of-type {\n",
       "        vertical-align: middle;\n",
       "    }\n",
       "\n",
       "    .dataframe tbody tr th {\n",
       "        vertical-align: top;\n",
       "    }\n",
       "\n",
       "    .dataframe thead th {\n",
       "        text-align: right;\n",
       "    }\n",
       "</style>\n",
       "<table border=\"1\" class=\"dataframe\">\n",
       "  <thead>\n",
       "    <tr style=\"text-align: right;\">\n",
       "      <th></th>\n",
       "      <th>Exam1</th>\n",
       "      <th>Exam2</th>\n",
       "      <th>Admitted</th>\n",
       "    </tr>\n",
       "  </thead>\n",
       "  <tbody>\n",
       "    <tr>\n",
       "      <th>0</th>\n",
       "      <td>34.623660</td>\n",
       "      <td>78.024693</td>\n",
       "      <td>0</td>\n",
       "    </tr>\n",
       "    <tr>\n",
       "      <th>1</th>\n",
       "      <td>30.286711</td>\n",
       "      <td>43.894998</td>\n",
       "      <td>0</td>\n",
       "    </tr>\n",
       "    <tr>\n",
       "      <th>2</th>\n",
       "      <td>35.847409</td>\n",
       "      <td>72.902198</td>\n",
       "      <td>0</td>\n",
       "    </tr>\n",
       "    <tr>\n",
       "      <th>3</th>\n",
       "      <td>60.182599</td>\n",
       "      <td>86.308552</td>\n",
       "      <td>1</td>\n",
       "    </tr>\n",
       "    <tr>\n",
       "      <th>4</th>\n",
       "      <td>79.032736</td>\n",
       "      <td>75.344376</td>\n",
       "      <td>1</td>\n",
       "    </tr>\n",
       "  </tbody>\n",
       "</table>\n",
       "</div>"
      ],
      "text/plain": [
       "       Exam1      Exam2  Admitted\n",
       "0  34.623660  78.024693         0\n",
       "1  30.286711  43.894998         0\n",
       "2  35.847409  72.902198         0\n",
       "3  60.182599  86.308552         1\n",
       "4  79.032736  75.344376         1"
      ]
     },
     "execution_count": 158,
     "metadata": {},
     "output_type": "execute_result"
    }
   ],
   "source": [
    "path = 'ex2data1.txt'\n",
    "data = pd.read_csv(path, header=None, names=['Exam1','Exam2', 'Admitted'])\n",
    "data.head()"
   ]
  },
  {
   "cell_type": "markdown",
   "metadata": {},
   "source": [
    "## 将训练数据进行可视化"
   ]
  },
  {
   "cell_type": "code",
   "execution_count": 159,
   "metadata": {},
   "outputs": [
    {
     "data": {
      "image/png": "[encoded data removed]",
      "text/plain": [
       "<Figure size 864x576 with 1 Axes>"
      ]
     },
     "metadata": {
      "needs_background": "light"
     },
     "output_type": "display_data"
    }
   ],
   "source": [
    "positive = data[data['Admitted'].isin([1])]\n",
    "negative = data[data['Admitted'].isin([0])]\n",
    "\n",
    "fig, ax = plt.subplots(figsize=(12,8))\n",
    "ax.scatter(positive['Exam1'], positive['Exam2'], s=50, c='red', marker='+', \n",
    "    label='Admitted')\n",
    "ax.scatter(negative['Exam1'], negative['Exam2'], s=50, c='blue', marker='*',\n",
    "    label='Not Admitted')\n",
    "ax.legend(loc=4)\n",
    "ax.set_xlabel('Exam 1 Score')\n",
    "ax.set_ylabel('Exam 2 Score')\n",
    "plt.show()"
   ]
  },
  {
   "cell_type": "markdown",
   "metadata": {},
   "source": [
    "看起来在两类间，有一个清晰的决策边界。现在我们需要实现逻辑回归，那样就可以训练一个模型来预测结果。"
   ]
  },
  {
   "cell_type": "markdown",
   "metadata": {},
   "source": [
    "## Sigmoid函数"
   ]
  },
  {
   "cell_type": "code",
   "execution_count": 160,
   "metadata": {},
   "outputs": [],
   "source": [
    "def sigmoid(z):\n",
    "    return 1 / (1 + np.exp(-z))"
   ]
  },
  {
   "cell_type": "markdown",
   "metadata": {},
   "source": [
    "测试一下是否能合适工作"
   ]
  },
  {
   "cell_type": "code",
   "execution_count": 161,
   "metadata": {},
   "outputs": [
    {
     "data": {
      "text/plain": [
       "array([4.53978687e-05, 1.23394576e-04, 3.35350130e-04, 9.11051194e-04,\n",
       "       2.47262316e-03, 6.69285092e-03, 1.79862100e-02, 4.74258732e-02,\n",
       "       1.19202922e-01, 2.68941421e-01, 5.00000000e-01, 7.31058579e-01,\n",
       "       8.80797078e-01, 9.52574127e-01, 9.82013790e-01, 9.93307149e-01,\n",
       "       9.97527377e-01, 9.99088949e-01, 9.99664650e-01, 9.99876605e-01])"
      ]
     },
     "execution_count": 161,
     "metadata": {},
     "output_type": "execute_result"
    },
    {
     "data": {
      "image/png": "[encoded data removed]",
      "text/plain": [
       "<Figure size 432x288 with 1 Axes>"
      ]
     },
     "metadata": {
      "needs_background": "light"
     },
     "output_type": "display_data"
    }
   ],
   "source": [
    "nums_test = np.arange(-10,10, step=1)\n",
    "plt.plot(nums_test, sigmoid(nums_test),'r')\n",
    "plt.show\n",
    "sigmoid(nums_test)"
   ]
  },
  {
   "cell_type": "markdown",
   "metadata": {},
   "source": [
    "## 代价函数"
   ]
  },
  {
   "cell_type": "markdown",
   "metadata": {},
   "source": [
    "$$J = \\frac{1}{m} \\times \\sum_{i=1}^m [-y^{(i)} \\times log(h_θ(x^{(i)})) - (1 - y^{(i)}) \\times log(1 - h_θ(x^{(i)}))]\n"
   ]
  },
  {
   "cell_type": "code",
   "execution_count": 162,
   "metadata": {},
   "outputs": [],
   "source": [
    "def cost(theta,X,y):\n",
    "    theta = np.matrix(theta)\n",
    "    X = np.matrix(X)\n",
    "    y = np.matrix(y)\n",
    "    m = len(y)\n",
    "    h_theta = sigmoid(X * theta.T)\n",
    "    J = -(np.dot((y.T), np.log(h_theta)) + np.dot((1-y.T), np.log(1-h_theta))) / m\n",
    "\n",
    "    return J\n",
    "    "
   ]
  },
  {
   "cell_type": "markdown",
   "metadata": {},
   "source": [
    "设置X,y"
   ]
  },
  {
   "cell_type": "code",
   "execution_count": 163,
   "metadata": {},
   "outputs": [
    {
     "data": {
      "text/plain": [
       "matrix([[0.69314718]])"
      ]
     },
     "execution_count": 163,
     "metadata": {},
     "output_type": "execute_result"
    }
   ],
   "source": [
    "data.insert(0,'Ones',1)\n",
    "cols = data.shape[1]\n",
    "X = data.iloc[:,0:cols-1]\n",
    "y = data.iloc[:,cols-1:cols]\n",
    "X = np.array(X.values)\n",
    "y = np.array(y.values)\n",
    "theta = np.zeros(3)\n",
    "#X.shape,theta.shape,y.shape\n",
    "cost(theta, X, y)"
   ]
  },
  {
   "cell_type": "markdown",
   "metadata": {},
   "source": [
    "## 梯度下降"
   ]
  },
  {
   "cell_type": "code",
   "execution_count": 164,
   "metadata": {},
   "outputs": [
    {
     "data": {
      "text/plain": [
       "array([ -0.1       , -12.00921659, -11.26284221])"
      ]
     },
     "execution_count": 164,
     "metadata": {},
     "output_type": "execute_result"
    }
   ],
   "source": [
    "def gradient(theta, X, y):\n",
    "    theta = np.matrix(theta)\n",
    "    X = np.matrix(X)\n",
    "    y = np.matrix(y)\n",
    "    parameters = int(theta.ravel().shape[1])\n",
    "    error = sigmoid(np.dot(X, theta.T)) - y\n",
    "    grad = np.zeros(parameters)\n",
    "    # 向量化方法\n",
    "    # grad = np.dot(X.T, error)/len(y)\n",
    "    for i in range(parameters):\n",
    "        term = np.multiply(error, X[:,i])\n",
    "        grad[i] = np.sum(term) /len(X)\n",
    "    \n",
    "    \n",
    "    \n",
    "    return grad\n",
    "\n",
    "    \n",
    "gradient(theta, X, y)\n",
    "##生成matrix/向量化方法,for的话生成的是array\n",
    "\n"
   ]
  },
  {
   "cell_type": "markdown",
   "metadata": {},
   "source": [
    "在这里计算的只是单次最开始的梯度,仅仅在计算一个梯度步长,matlab里可以用fminunc(无约束最小化函数)来优化函数,来计算成本和梯度参数,python里面用sciPy的“optimize“命名空间来做一样的事"
   ]
  },
  {
   "cell_type": "markdown",
   "metadata": {},
   "source": [
    "现在可以使用[sciPy‘s truncated newton(TNC)](https://www.runoob.com/scipy/scipy-optimize.html)实现寻找最优参数."
   ]
  },
  {
   "cell_type": "code",
   "execution_count": 165,
   "metadata": {},
   "outputs": [
    {
     "name": "stderr",
     "output_type": "stream",
     "text": [
      "  NIT   NF   F                       GTG\n",
      "    0    1  6.931471805599453E-01   2.71082898E+02\n",
      "    1    3  6.318123602631536E-01   7.89087138E-01\n",
      "    2    5  5.892425215690646E-01   7.39226659E+01\n",
      "    3    7  4.227824013349988E-01   1.85265719E+01\n",
      "    4    9  4.072926963747109E-01   1.68671130E+01\n",
      "    5   11  3.818854870221429E-01   1.07735103E+01\n",
      "    6   13  3.786234850041487E-01   2.31584929E+01\n",
      "tnc: stepmx = 1000\n",
      "    7   16  2.389268198743758E-01   3.00821998E+00\n",
      "    8   18  2.047203892405198E-01   1.52227867E-01\n",
      "    9   20  2.046713898944703E-01   6.62495276E-02\n",
      "   10   22  2.035303162361215E-01   9.30780876E-04\n",
      "tnc: fscale = 32.7775\n",
      "   11   24  2.035293521271775E-01   8.07191978E-06\n",
      "   12   26  2.035251112915608E-01   1.80213714E-04\n",
      "   13   28  2.034984109909704E-01   5.02878482E-04\n",
      "   14   30  2.034978382926864E-01   9.92360567E-06\n",
      "   15   32  2.034977907837327E-01   3.77843767E-06\n",
      "   16   34  2.034977388898613E-01   1.94830212E-05\n",
      "   17   36  2.034977015894746E-01   2.33850311E-13\n",
      "tnc: |pg| = 1.47534e-08 -> local minimum\n",
      "   17   36  2.034977015894746E-01   2.33850311E-13\n",
      "tnc: Local minima reach (|pg| ~= 0)\n"
     ]
    },
    {
     "data": {
      "text/plain": [
       "array([-25.16131863,   0.20623159,   0.20147149])"
      ]
     },
     "execution_count": 165,
     "metadata": {},
     "output_type": "execute_result"
    }
   ],
   "source": [
    "import scipy.optimize as opt\n",
    "result = opt.fmin_tnc(func=cost,x0=theta,fprime=gradient,args=(X, y))\n",
    "theta_results = result[0]\n",
    "theta_results"
   ]
  },
  {
   "cell_type": "code",
   "execution_count": 166,
   "metadata": {},
   "outputs": [
    {
     "data": {
      "text/plain": [
       "matrix([[0.2034977]])"
      ]
     },
     "execution_count": 166,
     "metadata": {},
     "output_type": "execute_result"
    }
   ],
   "source": [
    "cost(result[0],X,y)"
   ]
  },
  {
   "cell_type": "markdown",
   "metadata": {},
   "source": [
    "## 画出用scipy计算出来的决策边界"
   ]
  },
  {
   "cell_type": "code",
   "execution_count": 167,
   "metadata": {},
   "outputs": [
    {
     "data": {
      "image/png": "[encoded data removed]",
      "text/plain": [
       "<Figure size 864x576 with 1 Axes>"
      ]
     },
     "metadata": {
      "needs_background": "light"
     },
     "output_type": "display_data"
    }
   ],
   "source": [
    "x_1 = np.linspace(data.Exam1.min(), data.Exam1.max(),100)\n",
    "x_2 = (theta_results[0] + theta_results[1] * x_1) /(-theta_results[2])\n",
    "\n",
    "fig, ax = plt.subplots(figsize=(12,8))\n",
    "ax.scatter(positive['Exam1'], positive['Exam2'], s=50, c='red', marker='+', \n",
    "    label='Admitted')\n",
    "ax.scatter(negative['Exam1'], negative['Exam2'], s=50, c='blue', marker='*',\n",
    "    label='Not Admitted')\n",
    "ax.legend(loc=4)\n",
    "ax.set_xlabel('Exam 1 Score')\n",
    "ax.set_ylabel('Exam 2 Score')\n",
    "plt.plot(x_1,x_2,color='green')\n",
    "plt.show()"
   ]
  },
  {
   "cell_type": "markdown",
   "metadata": {},
   "source": [
    "编写一个函数,用训练出来的参数theta来为数据集X进行预测,并且给精度打分,h大于等于0.5的时候,y是1,否则是0"
   ]
  },
  {
   "cell_type": "code",
   "execution_count": 168,
   "metadata": {},
   "outputs": [],
   "source": [
    "def predict(theta, X):\n",
    "    probability = sigmoid(X * theta.T)\n",
    "    #return [1 if x >= 0.5 else 0 for x in probability]\n",
    "    pre = []\n",
    "    for x in probability:\n",
    "        if x >= 0.5:\n",
    "            pre.append(1)\n",
    "        else:\n",
    "            pre.append(0)\n",
    "    return pre"
   ]
  },
  {
   "cell_type": "code",
   "execution_count": 169,
   "metadata": {},
   "outputs": [
    {
     "name": "stdout",
     "output_type": "stream",
     "text": [
      "The accuracy of prediction about the training data is 89%.\n"
     ]
    }
   ],
   "source": [
    "theta_min = np.matrix(result[0])\n",
    "predictions = predict(theta_min,X)\n",
    "#predictions = np.array(predictions)\n",
    "correct = [1 if ((a==1 and b ==1) or (a==0 and b==0)) else 0 \n",
    "    for (a,b) in zip(predictions,y)]\n",
    "accuracy = (sum(correct)) % len(y)\n",
    "print(\"The accuracy of prediction about the training data is \\\n",
    "{0}%.\".format(accuracy))"
   ]
  },
  {
   "cell_type": "markdown",
   "metadata": {},
   "source": [
    "89%是训练集的准确率,我们没有保持住了设置或使用交叉验证得到的真实逼近，所以这个数字有可能高于其真实值（这里不是很理解）。"
   ]
  },
  {
   "cell_type": "markdown",
   "metadata": {},
   "source": [
    "## 正则逻辑回归regularization\n",
    "防止overfilling出现的一种方法,是成本函数中的一个术语,它使算法更倾向于“更简单的模型”"
   ]
  },
  {
   "cell_type": "code",
   "execution_count": 170,
   "metadata": {},
   "outputs": [
    {
     "data": {
      "text/html": [
       "<div>\n",
       "<style scoped>\n",
       "    .dataframe tbody tr th:only-of-type {\n",
       "        vertical-align: middle;\n",
       "    }\n",
       "\n",
       "    .dataframe tbody tr th {\n",
       "        vertical-align: top;\n",
       "    }\n",
       "\n",
       "    .dataframe thead th {\n",
       "        text-align: right;\n",
       "    }\n",
       "</style>\n",
       "<table border=\"1\" class=\"dataframe\">\n",
       "  <thead>\n",
       "    <tr style=\"text-align: right;\">\n",
       "      <th></th>\n",
       "      <th>Test1</th>\n",
       "      <th>Test2</th>\n",
       "      <th>Accepted</th>\n",
       "    </tr>\n",
       "  </thead>\n",
       "  <tbody>\n",
       "    <tr>\n",
       "      <th>0</th>\n",
       "      <td>0.051267</td>\n",
       "      <td>0.69956</td>\n",
       "      <td>1</td>\n",
       "    </tr>\n",
       "    <tr>\n",
       "      <th>1</th>\n",
       "      <td>-0.092742</td>\n",
       "      <td>0.68494</td>\n",
       "      <td>1</td>\n",
       "    </tr>\n",
       "    <tr>\n",
       "      <th>2</th>\n",
       "      <td>-0.213710</td>\n",
       "      <td>0.69225</td>\n",
       "      <td>1</td>\n",
       "    </tr>\n",
       "    <tr>\n",
       "      <th>3</th>\n",
       "      <td>-0.375000</td>\n",
       "      <td>0.50219</td>\n",
       "      <td>1</td>\n",
       "    </tr>\n",
       "    <tr>\n",
       "      <th>4</th>\n",
       "      <td>-0.513250</td>\n",
       "      <td>0.46564</td>\n",
       "      <td>1</td>\n",
       "    </tr>\n",
       "  </tbody>\n",
       "</table>\n",
       "</div>"
      ],
      "text/plain": [
       "      Test1    Test2  Accepted\n",
       "0  0.051267  0.69956         1\n",
       "1 -0.092742  0.68494         1\n",
       "2 -0.213710  0.69225         1\n",
       "3 -0.375000  0.50219         1\n",
       "4 -0.513250  0.46564         1"
      ]
     },
     "execution_count": 170,
     "metadata": {},
     "output_type": "execute_result"
    }
   ],
   "source": [
    "path2 = 'ex2data2.txt'\n",
    "data2 = pd.read_csv(path2, header=None,names=['Test1','Test2','Accepted'])\n",
    "data2.head()"
   ]
  },
  {
   "cell_type": "code",
   "execution_count": 171,
   "metadata": {},
   "outputs": [
    {
     "data": {
      "image/png": "[encoded data removed]",
      "text/plain": [
       "<Figure size 864x576 with 1 Axes>"
      ]
     },
     "metadata": {
      "needs_background": "light"
     },
     "output_type": "display_data"
    }
   ],
   "source": [
    "positive = data2[data2['Accepted'].isin([1])]\n",
    "negative = data2[data2['Accepted'].isin([0])]\n",
    "\n",
    "fig, ax = plt.subplots(figsize=(12,8))\n",
    "ax.scatter(positive['Test1'], positive['Test2'], marker='o', label='Accepted')\n",
    "ax.scatter(negative['Test1'], negative['Test2'], marker='x', label='Rejected')\n",
    "ax.legend()\n",
    "ax.set_xlabel('Test 1 Score')\n",
    "ax.set_ylabel('Test 2 score')\n",
    "plt.show()"
   ]
  },
  {
   "cell_type": "markdown",
   "metadata": {},
   "source": [
    "这组数据用线性模型已经不能实现预测数据了,所以进行特征映射,为每组数据创造更多的特征,最高创造到使用6次幂"
   ]
  },
  {
   "cell_type": "code",
   "execution_count": 172,
   "metadata": {},
   "outputs": [
    {
     "data": {
      "text/html": [
       "<div>\n",
       "<style scoped>\n",
       "    .dataframe tbody tr th:only-of-type {\n",
       "        vertical-align: middle;\n",
       "    }\n",
       "\n",
       "    .dataframe tbody tr th {\n",
       "        vertical-align: top;\n",
       "    }\n",
       "\n",
       "    .dataframe thead th {\n",
       "        text-align: right;\n",
       "    }\n",
       "</style>\n",
       "<table border=\"1\" class=\"dataframe\">\n",
       "  <thead>\n",
       "    <tr style=\"text-align: right;\">\n",
       "      <th></th>\n",
       "      <th>Accepted</th>\n",
       "      <th>Ones</th>\n",
       "      <th>F10</th>\n",
       "      <th>F01</th>\n",
       "      <th>F20</th>\n",
       "      <th>F11</th>\n",
       "      <th>F02</th>\n",
       "      <th>F30</th>\n",
       "      <th>F21</th>\n",
       "      <th>F12</th>\n",
       "      <th>...</th>\n",
       "      <th>F31</th>\n",
       "      <th>F22</th>\n",
       "      <th>F13</th>\n",
       "      <th>F04</th>\n",
       "      <th>F50</th>\n",
       "      <th>F41</th>\n",
       "      <th>F32</th>\n",
       "      <th>F23</th>\n",
       "      <th>F14</th>\n",
       "      <th>F05</th>\n",
       "    </tr>\n",
       "  </thead>\n",
       "  <tbody>\n",
       "    <tr>\n",
       "      <th>0</th>\n",
       "      <td>1</td>\n",
       "      <td>1</td>\n",
       "      <td>0.051267</td>\n",
       "      <td>0.69956</td>\n",
       "      <td>0.002628</td>\n",
       "      <td>0.035864</td>\n",
       "      <td>0.489384</td>\n",
       "      <td>0.000135</td>\n",
       "      <td>0.001839</td>\n",
       "      <td>0.025089</td>\n",
       "      <td>...</td>\n",
       "      <td>0.000094</td>\n",
       "      <td>0.001286</td>\n",
       "      <td>0.017551</td>\n",
       "      <td>0.239497</td>\n",
       "      <td>3.541519e-07</td>\n",
       "      <td>0.000005</td>\n",
       "      <td>0.000066</td>\n",
       "      <td>0.000900</td>\n",
       "      <td>0.012278</td>\n",
       "      <td>0.167542</td>\n",
       "    </tr>\n",
       "    <tr>\n",
       "      <th>1</th>\n",
       "      <td>1</td>\n",
       "      <td>1</td>\n",
       "      <td>-0.092742</td>\n",
       "      <td>0.68494</td>\n",
       "      <td>0.008601</td>\n",
       "      <td>-0.063523</td>\n",
       "      <td>0.469143</td>\n",
       "      <td>-0.000798</td>\n",
       "      <td>0.005891</td>\n",
       "      <td>-0.043509</td>\n",
       "      <td>...</td>\n",
       "      <td>-0.000546</td>\n",
       "      <td>0.004035</td>\n",
       "      <td>-0.029801</td>\n",
       "      <td>0.220095</td>\n",
       "      <td>-6.860919e-06</td>\n",
       "      <td>0.000051</td>\n",
       "      <td>-0.000374</td>\n",
       "      <td>0.002764</td>\n",
       "      <td>-0.020412</td>\n",
       "      <td>0.150752</td>\n",
       "    </tr>\n",
       "    <tr>\n",
       "      <th>2</th>\n",
       "      <td>1</td>\n",
       "      <td>1</td>\n",
       "      <td>-0.213710</td>\n",
       "      <td>0.69225</td>\n",
       "      <td>0.045672</td>\n",
       "      <td>-0.147941</td>\n",
       "      <td>0.479210</td>\n",
       "      <td>-0.009761</td>\n",
       "      <td>0.031616</td>\n",
       "      <td>-0.102412</td>\n",
       "      <td>...</td>\n",
       "      <td>-0.006757</td>\n",
       "      <td>0.021886</td>\n",
       "      <td>-0.070895</td>\n",
       "      <td>0.229642</td>\n",
       "      <td>-4.457837e-04</td>\n",
       "      <td>0.001444</td>\n",
       "      <td>-0.004677</td>\n",
       "      <td>0.015151</td>\n",
       "      <td>-0.049077</td>\n",
       "      <td>0.158970</td>\n",
       "    </tr>\n",
       "    <tr>\n",
       "      <th>3</th>\n",
       "      <td>1</td>\n",
       "      <td>1</td>\n",
       "      <td>-0.375000</td>\n",
       "      <td>0.50219</td>\n",
       "      <td>0.140625</td>\n",
       "      <td>-0.188321</td>\n",
       "      <td>0.252195</td>\n",
       "      <td>-0.052734</td>\n",
       "      <td>0.070620</td>\n",
       "      <td>-0.094573</td>\n",
       "      <td>...</td>\n",
       "      <td>-0.026483</td>\n",
       "      <td>0.035465</td>\n",
       "      <td>-0.047494</td>\n",
       "      <td>0.063602</td>\n",
       "      <td>-7.415771e-03</td>\n",
       "      <td>0.009931</td>\n",
       "      <td>-0.013299</td>\n",
       "      <td>0.017810</td>\n",
       "      <td>-0.023851</td>\n",
       "      <td>0.031940</td>\n",
       "    </tr>\n",
       "    <tr>\n",
       "      <th>4</th>\n",
       "      <td>1</td>\n",
       "      <td>1</td>\n",
       "      <td>-0.513250</td>\n",
       "      <td>0.46564</td>\n",
       "      <td>0.263426</td>\n",
       "      <td>-0.238990</td>\n",
       "      <td>0.216821</td>\n",
       "      <td>-0.135203</td>\n",
       "      <td>0.122661</td>\n",
       "      <td>-0.111283</td>\n",
       "      <td>...</td>\n",
       "      <td>-0.062956</td>\n",
       "      <td>0.057116</td>\n",
       "      <td>-0.051818</td>\n",
       "      <td>0.047011</td>\n",
       "      <td>-3.561597e-02</td>\n",
       "      <td>0.032312</td>\n",
       "      <td>-0.029315</td>\n",
       "      <td>0.026596</td>\n",
       "      <td>-0.024128</td>\n",
       "      <td>0.021890</td>\n",
       "    </tr>\n",
       "  </tbody>\n",
       "</table>\n",
       "<p>5 rows × 22 columns</p>\n",
       "</div>"
      ],
      "text/plain": [
       "   Accepted  Ones       F10      F01       F20       F11       F02       F30  \\\n",
       "0         1     1  0.051267  0.69956  0.002628  0.035864  0.489384  0.000135   \n",
       "1         1     1 -0.092742  0.68494  0.008601 -0.063523  0.469143 -0.000798   \n",
       "2         1     1 -0.213710  0.69225  0.045672 -0.147941  0.479210 -0.009761   \n",
       "3         1     1 -0.375000  0.50219  0.140625 -0.188321  0.252195 -0.052734   \n",
       "4         1     1 -0.513250  0.46564  0.263426 -0.238990  0.216821 -0.135203   \n",
       "\n",
       "        F21       F12  ...       F31       F22       F13       F04  \\\n",
       "0  0.001839  0.025089  ...  0.000094  0.001286  0.017551  0.239497   \n",
       "1  0.005891 -0.043509  ... -0.000546  0.004035 -0.029801  0.220095   \n",
       "2  0.031616 -0.102412  ... -0.006757  0.021886 -0.070895  0.229642   \n",
       "3  0.070620 -0.094573  ... -0.026483  0.035465 -0.047494  0.063602   \n",
       "4  0.122661 -0.111283  ... -0.062956  0.057116 -0.051818  0.047011   \n",
       "\n",
       "            F50       F41       F32       F23       F14       F05  \n",
       "0  3.541519e-07  0.000005  0.000066  0.000900  0.012278  0.167542  \n",
       "1 -6.860919e-06  0.000051 -0.000374  0.002764 -0.020412  0.150752  \n",
       "2 -4.457837e-04  0.001444 -0.004677  0.015151 -0.049077  0.158970  \n",
       "3 -7.415771e-03  0.009931 -0.013299  0.017810 -0.023851  0.031940  \n",
       "4 -3.561597e-02  0.032312 -0.029315  0.026596 -0.024128  0.021890  \n",
       "\n",
       "[5 rows x 22 columns]"
      ]
     },
     "execution_count": 172,
     "metadata": {},
     "output_type": "execute_result"
    }
   ],
   "source": [
    "degree = 5\n",
    "x1 = data2['Test1']\n",
    "x2 = data2['Test2']\n",
    "\n",
    "data2.insert(3,'Ones',1)\n",
    "\n",
    "for i in range(1,degree+1):\n",
    "    for j in range(0,i+1):\n",
    "        data2['F'+str(i-j)+str(j)] = np.power(x1,i-j) * np.power(x2,j)\n",
    "\n",
    "#axis=1,那么也是横向发生变化，体现为列的减少\n",
    "data2.drop('Test1',axis=1,inplace=True)\n",
    "data2.drop('Test2',axis=1,inplace=True)\n",
    "data2.head()"
   ]
  },
  {
   "cell_type": "markdown",
   "metadata": {},
   "source": [
    "为了防止出现过拟合情况,所以需要进行正则化,根据正则化来定义成本函数和梯度函数."
   ]
  },
  {
   "cell_type": "markdown",
   "metadata": {},
   "source": [
    "对逻辑回归,使用正则化  \n",
    "$$J = \\frac{1}{m} \\times \\sum_{i=1}^m [-y^{(i)} \\times log(h_θ(x^{(i)})) - (1 - y^{(i)}) \\times log(1 - h_θ(x^{(i)}))] + \\frac{λ}{2m} \\sum_{j=1}^n θ_{(j)}^{(2)}\n"
   ]
  },
  {
   "cell_type": "code",
   "execution_count": 173,
   "metadata": {},
   "outputs": [],
   "source": [
    "def costReg(theta, X, y, regpara):\n",
    "    theta = np.matrix(theta)\n",
    "    X = np.matrix(X)\n",
    "    y = np.matrix(y)\n",
    "    h = sigmoid(X * theta.T)\n",
    "    reg = regpara * np.sum(np.power(theta[:,1:theta.shape[1]],2)) / (2 * len(y))\n",
    "    #返回的是matrix\n",
    "    #J = (-y.T * np.log(h) - (1-y.T) * np.log(1-h)) / len(y) + reg \n",
    "    #返回的是一个数字\n",
    "    first = np.multiply(-y, np.log(h))\n",
    "    second = np.multiply((1-y), np.log(1-h))\n",
    "\n",
    "    return np.sum(first - second) /len(X) +reg"
   ]
  },
  {
   "cell_type": "markdown",
   "metadata": {},
   "source": [
    "对这个reg项里的regpara,也就是lambda是一个超参数,用来控制正则化项,添加正则化梯度函数.theta0不需要进行正则化"
   ]
  },
  {
   "cell_type": "code",
   "execution_count": 174,
   "metadata": {},
   "outputs": [],
   "source": [
    "def gradientReg(theta, X, y, regpara):\n",
    "    theta = np.matrix(theta)\n",
    "    X = np.matrix(X)\n",
    "    y = np.matrix(y)\n",
    "    #theta参数的个数\n",
    "    parameters = int(theta.ravel().shape[1])\n",
    "    grad = np.zeros(parameters)\n",
    "    error = sigmoid(X * theta.T) - y\n",
    "    for i in range(parameters):\n",
    "        term = np.multiply(error, X[:,i])\n",
    "        if i == 0:\n",
    "            grad[i] = np.sum(term) / len(y)\n",
    "        else:\n",
    "            grad[i] = np.sum(term) / len(y) + regpara / (2 * len(y)) \n",
    "    return grad"
   ]
  },
  {
   "cell_type": "markdown",
   "metadata": {},
   "source": [
    "参考第一部分,来对模型进行计算"
   ]
  },
  {
   "cell_type": "code",
   "execution_count": 175,
   "metadata": {},
   "outputs": [],
   "source": [
    "cols = data2.shape[1]\n",
    "X2 = data2.iloc[:, 1:cols]\n",
    "y2 = data2.iloc[:, 0:1]\n",
    "\n",
    "X2 = np.array(X2.values)\n",
    "y2 = np.array(y2.values)\n",
    "theta2 = np.zeros(cols-1)"
   ]
  },
  {
   "cell_type": "markdown",
   "metadata": {},
   "source": [
    "设置一个合理的初始学习率"
   ]
  },
  {
   "cell_type": "code",
   "execution_count": 176,
   "metadata": {},
   "outputs": [],
   "source": [
    "regpara = 1"
   ]
  },
  {
   "cell_type": "markdown",
   "metadata": {},
   "source": [
    "进行计算/训练"
   ]
  },
  {
   "cell_type": "code",
   "execution_count": 177,
   "metadata": {},
   "outputs": [
    {
     "data": {
      "text/plain": [
       "0.6931471805599454"
      ]
     },
     "execution_count": 177,
     "metadata": {},
     "output_type": "execute_result"
    }
   ],
   "source": [
    "costReg(theta2, X2, y2, regpara)"
   ]
  },
  {
   "cell_type": "code",
   "execution_count": 178,
   "metadata": {},
   "outputs": [
    {
     "data": {
      "text/plain": [
       "array([0.00847458, 0.02302538, 0.00431506, 0.05458193, 0.01573862,\n",
       "       0.04190214, 0.02259328, 0.01156122, 0.01242973, 0.02771378,\n",
       "       0.04358591, 0.00647653, 0.01709734, 0.00733323, 0.04354011,\n",
       "       0.02420803, 0.00856712, 0.00762373, 0.01007551, 0.00871358,\n",
       "       0.03524527])"
      ]
     },
     "execution_count": 178,
     "metadata": {},
     "output_type": "execute_result"
    }
   ],
   "source": [
    "gradientReg(theta2, X2, y2, regpara)"
   ]
  },
  {
   "cell_type": "markdown",
   "metadata": {},
   "source": [
    "利用之前的scipy的opt,fmin_tnc来进行优化"
   ]
  },
  {
   "cell_type": "code",
   "execution_count": 179,
   "metadata": {},
   "outputs": [
    {
     "name": "stderr",
     "output_type": "stream",
     "text": [
      "  NIT   NF   F                       GTG\n",
      "    0    1  6.931471805599454E-01   1.34906863E-02\n",
      "    1   34  6.146863947290910E-01   3.49532870E-03\n",
      "    1   85  6.146863947290910E-01   3.49532870E-03\n",
      "tnc: Linear search failed\n"
     ]
    },
    {
     "data": {
      "text/plain": [
       "(array([ 1.92465739,  1.53694801,  2.51353603, -3.57157105, -1.26283149,\n",
       "        -2.1161696 ,  0.16805599, -0.82845809, -0.7775084 , -0.34464228,\n",
       "        -2.76966851, -0.44842837, -1.42073961, -0.61829983, -2.20083923,\n",
       "        -0.58061019, -0.76097023, -0.56663072, -0.86810904, -0.7675659 ,\n",
       "        -1.13607032]),\n",
       " 86,\n",
       " 4)"
      ]
     },
     "execution_count": 179,
     "metadata": {},
     "output_type": "execute_result"
    }
   ],
   "source": [
    "result2 = opt.fmin_tnc(func=costReg,x0=theta2, fprime=gradientReg,args=(X2, y2, regpara))\n",
    "result2"
   ]
  },
  {
   "cell_type": "markdown",
   "metadata": {},
   "source": [
    "画图表示出来"
   ]
  },
  {
   "cell_type": "code",
   "execution_count": 180,
   "metadata": {},
   "outputs": [
    {
     "data": {
      "text/plain": [
       "(matrix([[ 1.92465739,  1.53694801,  2.51353603, -3.57157105, -1.26283149,\n",
       "          -2.1161696 ,  0.16805599, -0.82845809, -0.7775084 , -0.34464228,\n",
       "          -2.76966851, -0.44842837, -1.42073961, -0.61829983, -2.20083923,\n",
       "          -0.58061019, -0.76097023, -0.56663072, -0.86810904, -0.7675659 ,\n",
       "          -1.13607032]]),\n",
       " 95)"
      ]
     },
     "execution_count": 180,
     "metadata": {},
     "output_type": "execute_result"
    }
   ],
   "source": [
    "theta_min2 = np.matrix(result2[0])\n",
    "predictions = predict(theta_min2, X2)\n",
    "correct = [1 if (a == 1 and b == 1) or (a == 0 and b == 0) else 0 \n",
    "    for (a,b) in zip(predictions,y2)]\n",
    "accuracy = sum(correct) % len(correct)\n",
    "theta_min2,accuracy"
   ]
  },
  {
   "cell_type": "markdown",
   "metadata": {},
   "source": [
    "## 画出决策边界"
   ]
  },
  {
   "cell_type": "code",
   "execution_count": 181,
   "metadata": {},
   "outputs": [],
   "source": [
    "def hfun2(theta,x1,x2):\n",
    "    \"\"\"计算每个给定的x1,x2的函数结果\"\"\"\n",
    "    temp = theta[0][0,0]\n",
    "    place = 0\n",
    "    for i in range(1,degree+1):\n",
    "        for j in range(0,i+1):\n",
    "            temp += np.power(x1,i-j) * np.power(x2,j) * theta[0][0,place+1]\n",
    "            place += 1\n",
    "    return temp"
   ]
  },
  {
   "cell_type": "code",
   "execution_count": 182,
   "metadata": {},
   "outputs": [],
   "source": [
    "def find_descision_boundary(theta):\n",
    "    \"\"\"提取出来合适的x1和x2\"\"\"\n",
    "    x1 = np.linspace(-1, 1.5, 1000)\n",
    "    x2 = np.linspace(-1, 1.5, 1000)\n",
    "    cordinates = [(x,y) for x in x1 for y in x2]\n",
    "    x_cord, y_cord = zip(*cordinates)\n",
    "    hval = pd.DataFrame({'x1': x_cord, 'x2': y_cord})\n",
    "    hval['hval'] =hfun2(theta,hval.x1,hval.x2)\n",
    "\n",
    "    descision = hval[np.abs(hval['hval']) < 2 * 10**-3]\n",
    "\n",
    "    return descision.x1, descision.x2"
   ]
  },
  {
   "cell_type": "code",
   "execution_count": 183,
   "metadata": {},
   "outputs": [
    {
     "data": {
      "image/png": "[encoded data removed]",
      "text/plain": [
       "<Figure size 864x576 with 1 Axes>"
      ]
     },
     "metadata": {
      "needs_background": "light"
     },
     "output_type": "display_data"
    }
   ],
   "source": [
    "x,y = find_descision_boundary(theta_min2)\n",
    "\n",
    "fig, ax = plt.subplots(figsize=(12,8))\n",
    "ax.scatter(positive['Test1'], positive['Test2'], marker='o', label='Accepted')\n",
    "ax.scatter(negative['Test1'], negative['Test2'], marker='x', label='Rejected')\n",
    "ax.legend()\n",
    "ax.set_xlabel('Test 1 Score')\n",
    "ax.set_ylabel('Test 2 score')\n",
    "plt.scatter(x,y)\n",
    "plt.show()"
   ]
  },
  {
   "cell_type": "code",
   "execution_count": 184,
   "metadata": {},
   "outputs": [
    {
     "name": "stderr",
     "output_type": "stream",
     "text": [
      "  NIT   NF   F                       GTG\n",
      "    0    1  6.931471805599454E-01   1.05270539E+00\n",
      "    1   42  6.913807737307662E-01   1.05032829E+00\n",
      "    1   96  6.913807737307662E-01   1.05032829E+00\n",
      "tnc: Linear search failed\n"
     ]
    },
    {
     "name": "stdout",
     "output_type": "stream",
     "text": [
      "The accuracy is 92%\n"
     ]
    },
    {
     "data": {
      "image/png": "[encoded data removed]",
      "text/plain": [
       "<Figure size 864x576 with 1 Axes>"
      ]
     },
     "metadata": {
      "needs_background": "light"
     },
     "output_type": "display_data"
    }
   ],
   "source": [
    "regpara = 50\n",
    "result2 = opt.fmin_tnc(func=costReg,x0=theta2, fprime=gradientReg,args=(X2, y2, regpara))\n",
    "theta_min2 = np.matrix(result2[0])\n",
    "predictions = predict(theta_min2, X2)\n",
    "correct = [1 if (a == 1 and b == 1) or (a == 0 and b == 0) else 0 \n",
    "    for (a,b) in zip(predictions,y2)]\n",
    "accuracy = sum(correct) % len(correct)\n",
    "print(\"The accuracy is {}%\".format(accuracy))\n",
    "x,y = find_descision_boundary(theta_min2)\n",
    "\n",
    "fig, ax = plt.subplots(figsize=(12,8))\n",
    "ax.scatter(positive['Test1'], positive['Test2'], marker='o', label='Accepted')\n",
    "ax.scatter(negative['Test1'], negative['Test2'], marker='x', label='Rejected')\n",
    "ax.legend()\n",
    "ax.set_xlabel('Test 1 Score')\n",
    "ax.set_ylabel('Test 2 score')\n",
    "plt.scatter(x,y)\n",
    "plt.show()\n"
   ]
  },
  {
   "cell_type": "markdown",
   "metadata": {},
   "source": [
    "# 使用sklearn进行逻辑回归"
   ]
  },
  {
   "cell_type": "code",
   "execution_count": 185,
   "metadata": {},
   "outputs": [
    {
     "name": "stderr",
     "output_type": "stream",
     "text": [
      "/Library/Frameworks/Python.framework/Versions/3.7/lib/python3.7/site-packages/sklearn/utils/validation.py:993: DataConversionWarning: A column-vector y was passed when a 1d array was expected. Please change the shape of y to (n_samples, ), for example using ravel().\n",
      "  y = column_or_1d(y, warn=True)\n"
     ]
    },
    {
     "data": {
      "text/plain": [
       "0.8389830508474576"
      ]
     },
     "execution_count": 185,
     "metadata": {},
     "output_type": "execute_result"
    }
   ],
   "source": [
    "from sklearn import linear_model\n",
    "model =linear_model.LogisticRegression(penalty='l2', C=1.0)\n",
    "model.fit(X2,y2)\n",
    "model.score(X2,y2)"
   ]
  }
 ],
 "metadata": {
  "interpreter": {
   "hash": "aee8b7b246df8f9039afb4144a1f6fd8d2ca17a180786b69acc140d282b71a49"
  },
  "kernelspec": {
   "display_name": "Python 3.7.4 64-bit",
   "language": "python",
   "name": "python3"
  },
  "language_info": {
   "codemirror_mode": {
    "name": "ipython",
    "version": 3
   },
   "file_extension": ".py",
   "mimetype": "text/x-python",
   "name": "python",
   "nbconvert_exporter": "python",
   "pygments_lexer": "ipython3",
   "version": "3.7.4"
  },
  "orig_nbformat": 4
 },
 "nbformat": 4,
 "nbformat_minor": 2
}
